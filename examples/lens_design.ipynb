{
 "cells": [
  {
   "cell_type": "markdown",
   "source": [
    "# Imager Optimization"
   ],
   "metadata": {}
  },
  {
   "cell_type": "markdown",
   "source": [
    "## Function Imports and Definitions"
   ],
   "metadata": {}
  },
  {
   "cell_type": "code",
   "execution_count": null,
   "source": [
    "import pyrayt\r\n",
    "from pyrayt import components\r\n",
    "import pyrayt.materials as matl\r\n",
    "from pyrayt.utils import lensmakers_equation\r\n",
    "import numpy as np\r\n",
    "import matplotlib\r\n",
    "import matplotlib.pyplot as plt\r\n",
    "import scipy\r\n",
    "import scipy.optimize\r\n",
    "from typing import Tuple\r\n",
    "from tinygfx.g3d import ObjectGroup\r\n",
    "import pandas as pd\r\n",
    "from tinygfx.g3d.renderers import draw\r\n",
    "from tinygfx.g3d import ObjectGroup\r\n",
    "\r\n",
    "def init_figure() -> Tuple[plt.Figure, plt.Axes]:\r\n",
    "    \"\"\"\r\n",
    "    Convenience function to generate an axis with a set size and \r\n",
    "    \"\"\"\r\n",
    "    fig = plt.figure(figsize = (12,8))\r\n",
    "    axis = plt.gca()\r\n",
    "    axis.grid()\r\n",
    "    return fig, axis\r\n"
   ],
   "outputs": [],
   "metadata": {}
  },
  {
   "cell_type": "markdown",
   "source": [
    "## System Constants"
   ],
   "metadata": {}
  },
  {
   "cell_type": "code",
   "execution_count": null,
   "source": [
    "# All spatial units are mm\r\n",
    "lens_diameter = 25.4\r\n",
    "lens_thickness = 5\r\n",
    "system_focus = 50 # The focus of the system\r\n",
    "p_sys = 1/system_focus\r\n",
    "f_num = 2.4"
   ],
   "outputs": [],
   "metadata": {}
  },
  {
   "cell_type": "markdown",
   "source": [
    "## A Single Lens Imager"
   ],
   "metadata": {}
  },
  {
   "cell_type": "code",
   "execution_count": null,
   "source": [
    "# Creating a simple Lens \r\n",
    "lens_material = matl.glass[\"BK7\"]\r\n",
    "lens_radius = 2*(lens_material.index_at(0.532)-1)/p_sys\r\n",
    "lens = pyrayt.components.thick_lens(\r\n",
    "    r1=lens_radius, \r\n",
    "    r2=-lens_radius,\r\n",
    "    thickness=lens_thickness,\r\n",
    "    aperture=lens_diameter,\r\n",
    "    material=lens_material)\r\n",
    "\r\n",
    "draw(lens)"
   ],
   "outputs": [],
   "metadata": {}
  },
  {
   "cell_type": "code",
   "execution_count": null,
   "source": [
    "# Creating the Imager\r\n",
    "imager = components.baffle((lens_diameter, lens_diameter)).move_x(system_focus)"
   ],
   "outputs": [],
   "metadata": {}
  },
  {
   "cell_type": "code",
   "execution_count": null,
   "source": [
    "# Creating the Aperture\r\n",
    "aperture_position = system_focus / 2 # place it half way between the lens and the imager\r\n",
    "aperture_diameter = aperture_position / f_num\r\n",
    "aperture = components.aperture(\r\n",
    "    size=(lens_diameter, lens_diameter), \r\n",
    "    aperture_size=aperture_diameter\r\n",
    "    ).move_x(aperture_position)"
   ],
   "outputs": [],
   "metadata": {}
  },
  {
   "cell_type": "code",
   "execution_count": null,
   "source": [
    "# Create a Parallel ray set\r\n",
    "source = components.LineOfRays(0.8*lens_diameter, wavelength = 0.633).move_x(-10)\r\n",
    "\r\n",
    "tracer = pyrayt.RayTracer(source, [lens, aperture, imager])\r\n",
    "tracer.set_rays_per_source(11)\r\n",
    "results = tracer.trace()\r\n",
    "fig, axis = init_figure()\r\n",
    "\r\n",
    "tracer.show(\r\n",
    "    #color_function=\"source\",\r\n",
    "    ray_width=0.2,\r\n",
    "    axis=axis,\r\n",
    "    view='xy')\r\n",
    "plt.show()"
   ],
   "outputs": [],
   "metadata": {}
  },
  {
   "cell_type": "markdown",
   "source": [
    "### Spherical Aberrations"
   ],
   "metadata": {}
  },
  {
   "cell_type": "code",
   "execution_count": null,
   "source": [
    "n_sources = 5\r\n",
    "source_diameter = np.linspace(0.1, 0.5, n_sources)*lens_diameter\r\n",
    "spherical_sources = [components.CircleOfRays(x).move_x(-10) for x in source_diameter]\r\n",
    "tracer = pyrayt.RayTracer(spherical_sources, [lens, aperture, imager])\r\n",
    "tracer.set_rays_per_source(111)\r\n",
    "results = tracer.trace()\r\n",
    "tracer.calculate_source_ids() # calculates which source generated each ray and adds it to the dataframe\r\n",
    "\r\n",
    "\r\n",
    "\r\n",
    "imager_rays = results.loc[results['surface'] == imager.get_id()]\r\n",
    "\r\n",
    "fig, axis = init_figure()\r\n",
    "axis.set_aspect('equal')\r\n",
    "axis.set_xlabel(\"y-axis (mm)\")\r\n",
    "axis.set_ylabel(\"z-axis (mm)\")\r\n",
    "axis.set_title(\"spot size at focus for various beam diameters\")\r\n",
    "for n, radii in enumerate(source_diameter):\r\n",
    "    source_rays_on_imager = imager_rays.loc[imager_rays['source_id']==n]\r\n",
    "    axis.plot(source_rays_on_imager['y1'], source_rays_on_imager['z1'],'-o',label=f\"{radii:.02f}mm\")\r\n",
    "plt.legend()\r\n",
    "plt.show()\r\n",
    "\r\n"
   ],
   "outputs": [],
   "metadata": {}
  },
  {
   "cell_type": "code",
   "execution_count": null,
   "source": [
    "def spherical_aberration(system, ray_origin: float, max_radius:float, sample_points=11):\r\n",
    "\r\n",
    "    # the souce is a line of rays only on the +y axis. It's slightly shifted so zero is not a point\r\n",
    "    # as it would focus at infinity\r\n",
    "    source = pyrayt.components.LineOfRays(0.9*max_radius).move_x(ray_origin).move_y(max_radius/2)\r\n",
    "\r\n",
    "\r\n",
    "    tracer = pyrayt.RayTracer(source, system)\r\n",
    "    tracer.set_rays_per_source(sample_points)\r\n",
    "    results = tracer.trace()\r\n",
    "\r\n",
    "    # Since we don't have the actual imager as a variable in the function\r\n",
    "    # assume it is the last thing a ray intersect with, meaning the rays that hit it have the \r\n",
    "    # highest generation\r\n",
    "    imager_rays = results.loc[results['generation'] == np.max(results['generation'])]\r\n",
    "    \r\n",
    "    # Intercept is calculated using the tilt for each ray, with is a normalized vector representing\r\n",
    "    # the direction the ray is travelling\r\n",
    "    intercept = -imager_rays['x_tilt']*imager_rays['y0']/imager_rays['y_tilt'] + imager_rays['x0']\r\n",
    "\r\n",
    "    # the original radii \r\n",
    "    radii = results.loc[np.logical_and(results['generation']==0, results['id'].isin(imager_rays['id']))]['y0']\r\n",
    "\r\n",
    "    # create a new dataframe with the aberration metrics\r\n",
    "    results = pd.DataFrame({'radius': np.asarray(radii), 'focus': np.asarray(intercept)})\r\n",
    "    return results\r\n",
    "\r\n"
   ],
   "outputs": [],
   "metadata": {}
  },
  {
   "cell_type": "code",
   "execution_count": null,
   "source": [
    "aberrations = spherical_aberration([lens, aperture, imager], -10, 0.4*lens_diameter, 21)\r\n",
    "\r\n",
    "fig, axis = init_figure()\r\n",
    "axis.set_title(\"Focal Length vs. Beam Radius for a single-lens imager\")\r\n",
    "axis.plot(aberrations['radius'], aberrations['focus'])\r\n",
    "axis.set_xlabel(\"Beam Radius (mm)\")\r\n",
    "axis.set_ylabel(\"Focal Length (mm)\")\r\n",
    "plt.show()"
   ],
   "outputs": [],
   "metadata": {}
  },
  {
   "cell_type": "markdown",
   "source": [
    "### Chromatic Aberrations"
   ],
   "metadata": {}
  },
  {
   "cell_type": "code",
   "execution_count": null,
   "source": [
    "def chromatic_abberation(system, ray_origin: float, test_radius:float, wavelengths: np.ndarray) -> pd.DataFrame:\r\n",
    "    # create a set of sources for every wavelength of light\r\n",
    "    sources = [\r\n",
    "        pyrayt.components.LineOfRays(0, wavelength = wave)\r\n",
    "        .move_y(test_radius)\r\n",
    "        .move_x(ray_origin) \r\n",
    "        for wave in wavelengths]\r\n",
    "    \r\n",
    "    # Create the ray tracer and propagate\r\n",
    "    tracer = pyrayt.RayTracer(sources, system)\r\n",
    "    tracer.set_rays_per_source(1)\r\n",
    "    results = tracer.trace()\r\n",
    "\r\n",
    "    #filter the rays that intersect the imager\r\n",
    "    imager_rays = results.loc[results['generation'] == np.max(results['generation'])]\r\n",
    "    \r\n",
    "    # calculate intercept of the imager rays with the x-axis and form into a dataframe\r\n",
    "    intercept = -imager_rays['x_tilt']*imager_rays['y0']/imager_rays['y_tilt'] + imager_rays['x0']\r\n",
    "    results = pd.DataFrame({'wavelength': imager_rays['wavelength'], 'focus': intercept})\r\n",
    "\r\n",
    "\r\n",
    "    return results\r\n",
    "\r\n"
   ],
   "outputs": [],
   "metadata": {}
  },
  {
   "cell_type": "code",
   "execution_count": null,
   "source": [
    "aberrations = chromatic_abberation([lens, aperture, imager], -10, lens_diameter/4, np.linspace(0.45, 0.75, 11))\r\n",
    "\r\n",
    "fig, axis = init_figure()\r\n",
    "axis.set_title(\"Focal Length vs. wavelength for a single-lens imager\")\r\n",
    "axis.plot(1000*aberrations['wavelength'], aberrations['focus'])\r\n",
    "axis.set_xlabel(\"Beam Radius (mm)\")\r\n",
    "axis.set_ylabel(\"wavelength (nm)\")\r\n",
    "plt.show()"
   ],
   "outputs": [],
   "metadata": {}
  },
  {
   "cell_type": "markdown",
   "source": [
    "### Coma Aberration"
   ],
   "metadata": {}
  },
  {
   "cell_type": "code",
   "execution_count": null,
   "source": [
    "# Visualizing with three sources\r\n",
    "#angle_sources= [pyrayt.components.LineOfRays(x * lens_diameter).move_x(-10).rotate_z(12) for x in np.linspace(0.1, 0.4, 3)]\r\n",
    "\r\n",
    "source = pyrayt.components.LineOfRays(0.9 * lens_diameter).move_x(-10).rotate_z(12)\r\n",
    "tracer = pyrayt.RayTracer(source, [lens, imager])\r\n",
    "tracer.set_rays_per_source(111)\r\n",
    "tracer.trace()\r\n",
    "fig, axis = init_figure()\r\n",
    "tracer.show(\r\n",
    "    axis=axis,\r\n",
    "    ray_width=0.15\r\n",
    ")"
   ],
   "outputs": [],
   "metadata": {}
  },
  {
   "cell_type": "code",
   "execution_count": null,
   "source": [
    "# View the Coma distortion at each angle\r\n",
    "tracer.calculate_source_ids()\r\n",
    "results = tracer.get_results()\r\n",
    "ray_set = results.loc[np.logical_and(results['source_id']==source, results['surface']==imager.get_id())]\r\n",
    "fig, axis = init_figure()\r\n",
    "ray_set.hist('y1', ax=axis)\r\n",
    "axis.set_title(\"Y-Axis intersection with Imaging Plane\")\r\n",
    "axis.set_xlabel('Ray Focus (mm)')\r\n",
    "    "
   ],
   "outputs": [],
   "metadata": {}
  },
  {
   "cell_type": "code",
   "execution_count": null,
   "source": [
    "def coma(system, ray_origin: float, max_radius:float, angle: float) -> float:\r\n",
    "    source = pyrayt.components.LineOfRays(2*max_radius).rotate_x(90).move_x(-10).rotate_z(angle)\r\n",
    "    \r\n",
    "    # pin the system so the transform is undone at the end\r\n",
    "    tracer = pyrayt.RayTracer(source, system)\r\n",
    "    tracer.set_rays_per_source(11)\r\n",
    "    results = tracer.trace()\r\n",
    "        \r\n",
    "    ray_set = results.loc[results['generation'] == np.max(results['generation'])]\r\n",
    "    return np.mean(np.square((np.sin(ray_set['y_tilt'])-np.sin(angle*np.pi/180))))"
   ],
   "outputs": [],
   "metadata": {}
  },
  {
   "cell_type": "code",
   "execution_count": null,
   "source": [
    "coma([lens, imager], -10, 0.25*lens_diameter, 10)\r\n"
   ],
   "outputs": [],
   "metadata": {}
  },
  {
   "cell_type": "code",
   "execution_count": null,
   "source": [
    "np.sin(10*np.pi/180)"
   ],
   "outputs": [],
   "metadata": {}
  },
  {
   "cell_type": "markdown",
   "source": [
    "## Making a Doublet"
   ],
   "metadata": {}
  },
  {
   "cell_type": "code",
   "execution_count": null,
   "source": [
    "# make a function that can be minimzed to find the optimum radius of curvature assuming a thick lens\r\n",
    "def thick_lens_radius(power: float, thickness: float, index: float) -> float:\r\n",
    "    return (index-1)*(1+np.sqrt(1-power*thickness/index))/power\r\n",
    "\r\n",
    "def power(r1, r2, thickness, index):\r\n",
    "    return (index-1)*(1/r1 - 1/r2 + (index-1)*thickness/(index*r1*r2))"
   ],
   "outputs": [],
   "metadata": {}
  },
  {
   "cell_type": "code",
   "execution_count": null,
   "source": [
    "# Want the power of the whole system to remain unchanged, but cancel out for the first Order Chromatic Dispersion\r\n",
    "# Define the two materials we will use\r\n",
    "matl1 = matl.glass[\"BK7\"]\r\n",
    "matl2 = matl.glass[\"SF2\"]\r\n",
    "\r\n",
    "# will make the first lens out of bk7 and the second out of sf5\r\n",
    "# get abbe numbers for each material\r\n",
    "v1 = matl1.abbe()\r\n",
    "v2 = matl2.abbe()\r\n",
    "\r\n",
    "# calculate the individual lens powers based on the dispersion\r\n",
    "p1 = p_sys * v1/(v1 - v2)\r\n",
    "p2 = p_sys * v2/(v2 - v1)\r\n",
    "\r\n",
    "l1_thickness = 8\r\n",
    "l2_thickness = 2"
   ],
   "outputs": [],
   "metadata": {}
  },
  {
   "cell_type": "code",
   "execution_count": null,
   "source": [
    "n1 = matl1.index_at(0.533)\r\n",
    "n2 = matl2.index_at(0.533)\r\n",
    "\r\n",
    "factor = 2.0\r\n",
    "r2 = (n2-1)/((2/factor)*p2)\r\n",
    "r3 = factor*r2\r\n",
    "r1 = (p1/(n1-1)+1/r2)**-1\r\n",
    "r1, r2, r3"
   ],
   "outputs": [],
   "metadata": {}
  },
  {
   "cell_type": "code",
   "execution_count": null,
   "source": [
    "# create lenses as a doublet\r\n",
    "l1 = pyrayt.components.thick_lens(r1, r2, l1_thickness, aperture = lens_diameter, material=matl1)\r\n",
    "l2 = pyrayt.components.thick_lens(r2,r3, 2, aperture = lens_diameter, material=matl2).move_x(1.01*(l1_thickness+l2_thickness)/2)\r\n",
    "doublet = ObjectGroup([l1, l2])\r\n",
    "\r\n",
    "source = pyrayt.components.LineOfRays(0.5*lens_diameter).move_x(-10).rotate_z(0)\r\n",
    "\r\n",
    "tracer = pyrayt.RayTracer(source, [l1, l2, aperture, imager])\r\n",
    "tracer.set_rays_per_source(5)\r\n",
    "results = tracer.trace()\r\n",
    "fig, axis = init_figure()\r\n",
    "tracer.show(\r\n",
    "    ray_width=0.1,\r\n",
    "    axis=axis\r\n",
    ")"
   ],
   "outputs": [],
   "metadata": {}
  },
  {
   "cell_type": "code",
   "execution_count": null,
   "source": [
    "## Optimization functions to correct focus\r\n",
    "\r\n",
    "def constant_power(radii) -> float:\r\n",
    "    # returns the deviation of the system power from the actual power, used for solver\r\n",
    "    n1 = bk7.index_at(0.633)\r\n",
    "    p1 = (n1-1)*(1/radii[0] -1/radii[1]+ (n1-1)*l1_thickness/(n1*radii[0]*radii[1]))\r\n",
    "    n2 = sf5.index_at(0.633)\r\n",
    "    p2 = (n2-1)*(1/radii[2] -1/radii[3]+ (n2-1)*l2_thickness/(n2*radii[2]*radii[3]))\r\n",
    "\r\n",
    "    # return the different between desired power and actual power\r\n",
    "    return p1+p2-p_sys\r\n",
    "\r\n",
    "constraints = [\r\n",
    "    {'type':'eq', 'fun': constant_power}\r\n",
    "]\r\n",
    "\r\n",
    "def doublet_performance(radius) -> float:\r\n",
    "    # make the system \r\n",
    "    l1 = pyrayt.components.thick_lens(radius[0], r2, l1_thickness, aperture = lens_diameter, material=matl1)\r\n",
    "    l2 = pyrayt.components.thick_lens(r2, r3, l2_thickness, aperture = lens_diameter, material=matl2).move_x(1.01*(l1_thickness+l2_thickness)/2)\r\n",
    "\r\n",
    "    system = [l1, l2, imager] # ignore the aperture for now\r\n",
    "    \r\n",
    "    # Get the chromatic aberration coefficients\r\n",
    "    sphere = spherical_aberration(system, -10, lens_diameter/4, 10)\r\n",
    "    return np.mean(np.square(sphere['focus']-system_focus))\r\n",
    "    \r\n"
   ],
   "outputs": [],
   "metadata": {}
  },
  {
   "cell_type": "code",
   "execution_count": null,
   "source": [
    "optimization = scipy.optimize.minimize(doublet_performance, [r1])\r\n",
    "r1 = optimization.x[0]"
   ],
   "outputs": [],
   "metadata": {}
  },
  {
   "cell_type": "code",
   "execution_count": null,
   "source": [
    "# create lenses as a doublet\r\n",
    "l1 = pyrayt.components.thick_lens(r1, r2, l1_thickness, aperture = lens_diameter, material=matl1)\r\n",
    "l2 = pyrayt.components.thick_lens(r2, r3, 2, aperture = lens_diameter, material=matl2).move_x(1.01*(l1_thickness+l2_thickness)/2)\r\n",
    "doublet = ObjectGroup([l1, l2])\r\n",
    "\r\n",
    "source = pyrayt.components.LineOfRays(0.5*lens_diameter).move_x(-10).rotate_z(0)\r\n",
    "\r\n",
    "tracer = pyrayt.RayTracer(source, [l1, l2, imager])\r\n",
    "tracer.set_rays_per_source(5)\r\n",
    "results = tracer.trace()\r\n",
    "fig, axis = init_figure()\r\n",
    "tracer.show(\r\n",
    "    ray_width=0.1,\r\n",
    "    axis=axis\r\n",
    ")"
   ],
   "outputs": [],
   "metadata": {}
  },
  {
   "cell_type": "code",
   "execution_count": null,
   "source": [
    "chroma = [chromatic_abberation(sys, -10, 0.25*lens_diameter, np.linspace(0.45, 0.75, 11)) for sys in [(lens, imager), (l1, l2, imager)]]\r\n",
    "sphere = [spherical_aberration(sys, -10, 0.25*lens_diameter, 11) for sys in [(lens, imager), (l1, l2, imager)]]\r\n",
    "\r\n",
    "fig, axis = init_figure()\r\n",
    "for c in chroma:\r\n",
    "    axis.plot(c['wavelength'], c['focus']-np.mean(c['focus']))\r\n",
    "plt.show()\r\n",
    "\r\n",
    "fig, axis = init_figure()\r\n",
    "for c in sphere:\r\n",
    "    axis.plot(c['radius'], c['focus']-np.mean(c['focus']))\r\n",
    "plt.show()"
   ],
   "outputs": [],
   "metadata": {}
  },
  {
   "cell_type": "code",
   "execution_count": null,
   "source": [
    "## Optimization functions to correct focus\r\n",
    "\r\n",
    "p1 = power(r1, r2, l1_thickness, matl1.index_at(0.533))\r\n",
    "p2 = power(r2, r3, l2_thickness, matl2.index_at(0.533))\r\n",
    "opt_power = p1+p2 # optimum power\r\n",
    "\r\n",
    "def inner_radii(radii) -> float:\r\n",
    "    return np.abs(radii[2]) - np.abs(radii[1])\r\n",
    "\r\n",
    "def r1_dir(radii) -> float:\r\n",
    "    return radii[0]\r\n",
    "\r\n",
    "def r2_dir(radii) -> float:\r\n",
    "    return -radii[1]\r\n",
    "\r\n",
    "def r3_dir(radii) -> float:\r\n",
    "    return -radii[2]\r\n",
    "\r\n",
    "def r4_dir(radii) -> float:\r\n",
    "    return -radii[3]\r\n",
    "\r\n",
    "constraints = [\r\n",
    "    {'type':'ineq', 'fun': inner_radii},\r\n",
    "    {'type':'ineq', 'fun': r1_dir},\r\n",
    "    {'type':'ineq', 'fun': r2_dir},\r\n",
    "    {'type':'ineq', 'fun': r3_dir},\r\n",
    "    {'type':'ineq', 'fun': r4_dir},\r\n",
    "]\r\n",
    "\r\n",
    "def doublet_performance(radius) -> float:\r\n",
    "    # make the system \r\n",
    "    l1 = pyrayt.components.thick_lens(radius[0], radius[1], l1_thickness, aperture = lens_diameter, material=matl1)\r\n",
    "    l2 = pyrayt.components.thick_lens(radius[2], radius[3], l2_thickness, aperture = lens_diameter, material=matl2).move_x(1.001*(l1_thickness+l2_thickness)/2)\r\n",
    "\r\n",
    "    system = [l1, l2, imager] # ignore the aperture for now\r\n",
    "    \r\n",
    "    # Get the chromatic aberration coefficients\r\n",
    "    chroma = chromatic_abberation(system, -10, lens_diameter/4, np.linspace(0.45,0.7,11))\r\n",
    "    chroma_error =  np.mean(np.square(chroma['focus']-system_focus))\r\n",
    "    w_chroma = 1\r\n",
    "\r\n",
    "    # Get the spherical aberration coefficients\r\n",
    "    sphere = spherical_aberration(system, -10, lens_diameter/4, 10)\r\n",
    "    sphere_error = np.mean(np.square(sphere['focus']-system_focus))\r\n",
    "    w_sphere = 1\r\n",
    "\r\n",
    "    # coma_error = coma([l1, l2, imager], -10, 0.25*lens_diameter, 10)\r\n",
    "    # w_coma = 10000\r\n",
    "\r\n",
    "    return chroma_error*w_chroma + sphere_error*w_sphere #+ coma_error * w_coma"
   ],
   "outputs": [],
   "metadata": {}
  },
  {
   "cell_type": "code",
   "execution_count": null,
   "source": [
    "optimization = scipy.optimize.minimize(doublet_performance, [r1, r2, r2, r3], constraints=constraints)"
   ],
   "outputs": [],
   "metadata": {}
  },
  {
   "cell_type": "code",
   "execution_count": null,
   "source": [
    "optimization"
   ],
   "outputs": [],
   "metadata": {}
  },
  {
   "cell_type": "code",
   "execution_count": null,
   "source": [
    "# create lenses as a doublet\r\n",
    "l1 = pyrayt.components.thick_lens(optimization.x[0], optimization.x[1], l1_thickness, aperture = lens_diameter, material=matl1)\r\n",
    "l2 = pyrayt.components.thick_lens(optimization.x[2], optimization.x[3], l2_thickness, aperture = lens_diameter, material=matl2).move_x(1.01*(l1_thickness+l2_thickness)/2)\r\n",
    "doublet = ObjectGroup([l1, l2])\r\n",
    "\r\n",
    "source = pyrayt.components.LineOfRays(0.5*lens_diameter).move_x(-10).rotate_z(0)\r\n",
    "\r\n",
    "tracer = pyrayt.RayTracer(source, [l1, l2, imager])\r\n",
    "tracer.set_rays_per_source(5)\r\n",
    "results = tracer.trace()\r\n",
    "fig, axis = init_figure()\r\n",
    "tracer.show(\r\n",
    "    ray_width=0.1,\r\n",
    "    axis=axis\r\n",
    ")"
   ],
   "outputs": [],
   "metadata": {}
  },
  {
   "cell_type": "code",
   "execution_count": null,
   "source": [
    "chroma = [chromatic_abberation(sys, -10, 0.25*lens_diameter, np.linspace(0.45, 0.75, 11)) for sys in [(lens, imager), (l1, l2, imager)]]\r\n",
    "sphere = [spherical_aberration(sys, -10, 0.25*lens_diameter, 11) for sys in [(lens, imager), (l1, l2, imager)]]\r\n",
    "\r\n",
    "fig = plt.figure(figsize=(16,8))\r\n",
    "axis = plt.subplot(121)\r\n",
    "axis.set_xlabel(\"Light Wavelength (nm)\")\r\n",
    "axis.set_ylabel(\"Focal Length shift (mm)\")\r\n",
    "axis.set_title(\"Chromatic Aberration\")\r\n",
    "[axis.plot(c['wavelength'], c['focus']-np.mean(c['focus'])) for c in chroma]\r\n",
    "axis.grid()\r\n",
    "plt.legend((\"single lens\",\"doublet lens\"))\r\n",
    "\r\n",
    "axis = plt.subplot(122)\r\n",
    "axis.grid()\r\n",
    "axis.set_title(\"Spherical Aberration\")\r\n",
    "axis.set_xlabel(\"Lens Radius (mm)\")\r\n",
    "axis.set_ylabel(\"Focal Length shift (mm)\")\r\n",
    "[axis.plot(c['radius'], c['focus']-np.mean(c['focus'])) for c in sphere]\r\n",
    "plt.legend((\"single lens\",\"doublet lens\"))\r\n",
    "plt.show()"
   ],
   "outputs": [],
   "metadata": {}
  },
  {
   "cell_type": "code",
   "execution_count": null,
   "source": [
    "# Visualizing with three sources\r\n",
    "angle_sources= [pyrayt.components.LineOfRays(0.5 * lens_diameter).move_x(-10).rotate_z(12),\r\n",
    "pyrayt.components.LineOfRays(0.5*lens_diameter).rotate_x(90).move_x(-10).rotate_z(12),\r\n",
    "pyrayt.components.LineOfRays(0.5*lens_diameter).rotate_x(90).move_x(-10).move_y(5).rotate_z(12)]\r\n",
    "\r\n",
    "tracer = pyrayt.RayTracer(angle_sources, [lens, imager])\r\n",
    "tracer.set_rays_per_source(5)\r\n",
    "results = tracer.trace()\r\n",
    "tracer.calculate_source_ids()\r\n",
    "fig, axis = init_figure()\r\n",
    "tracer.show(\r\n",
    "    axis=axis,\r\n",
    "    color_function=\"source\",\r\n",
    "    ray_width=0.1\r\n",
    ")"
   ],
   "outputs": [],
   "metadata": {}
  },
  {
   "cell_type": "code",
   "execution_count": null,
   "source": [
    "imager_rays = results.loc[results['surface']==imager.get_id()]\r\n",
    "fig, axis = init_figure()\r\n",
    "axis.set_aspect('equal')\r\n",
    "for source in (0,1,2):\r\n",
    "    subset = imager_rays.loc[imager_rays['source_id']==source]\r\n",
    "    axis.plot(subset['z1'], subset['y1']-10.5,'o')"
   ],
   "outputs": [],
   "metadata": {}
  },
  {
   "cell_type": "code",
   "execution_count": null,
   "source": [
    "np.cos(10*np.pi/180)"
   ],
   "outputs": [],
   "metadata": {}
  },
  {
   "cell_type": "code",
   "execution_count": null,
   "source": [
    "x = np.linspace(-np.pi/3, np.pi/3, 1001)\r\n",
    "y1 = x\r\n",
    "y2 = x - x**3/np.math.factorial(3)\r\n",
    "y3 = np.sin(x)\r\n",
    "\r\n",
    "fig, axis = init_figure()\r\n",
    "axis.plot(x*180/np.pi, y1)\r\n",
    "axis.plot(x*180/np.pi, y2)\r\n",
    "axis.plot(x*180/np.pi, y3)\r\n",
    "plt.show()"
   ],
   "outputs": [],
   "metadata": {}
  },
  {
   "cell_type": "code",
   "execution_count": null,
   "source": [],
   "outputs": [],
   "metadata": {}
  }
 ],
 "metadata": {
  "interpreter": {
   "hash": "70dfabefa7f0aff4182a552484fa514ba9176249c43f1a51b0f735d1f34674d7"
  },
  "kernelspec": {
   "name": "python3",
   "display_name": "Python 3.8.10 64-bit ('.venv': poetry)"
  },
  "language_info": {
   "codemirror_mode": {
    "name": "ipython",
    "version": 3
   },
   "file_extension": ".py",
   "mimetype": "text/x-python",
   "name": "python",
   "nbconvert_exporter": "python",
   "pygments_lexer": "ipython3",
   "version": "3.8.10"
  }
 },
 "nbformat": 4,
 "nbformat_minor": 4
}