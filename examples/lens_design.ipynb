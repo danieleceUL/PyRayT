{
 "cells": [
  {
   "cell_type": "markdown",
   "source": [
    "# Imager Optimization"
   ],
   "metadata": {}
  },
  {
   "cell_type": "markdown",
   "source": [
    "## Function Imports and Definitions"
   ],
   "metadata": {}
  },
  {
   "cell_type": "code",
   "execution_count": null,
   "source": [
    "import pyrayt\r\n",
    "from pyrayt import components\r\n",
    "import pyrayt.materials as matl\r\n",
    "from pyrayt.utils import lensmakers_equation\r\n",
    "import numpy as np\r\n",
    "import matplotlib\r\n",
    "import matplotlib.pyplot as plt\r\n",
    "import scipy\r\n",
    "from typing import Tuple\r\n",
    "from tinygfx.g3d import ObjectGroup\r\n",
    "import pandas as pd\r\n",
    "from tinygfx.g3d.renderers import draw\r\n",
    "\r\n",
    "def init_figure() -> Tuple[plt.Figure, plt.Axes]:\r\n",
    "    \"\"\"\r\n",
    "    Convenience function to generate an axis with a set size and \r\n",
    "    \"\"\"\r\n",
    "    fig = plt.figure(figsize = (12,8))\r\n",
    "    axis = plt.gca()\r\n",
    "    axis.grid()\r\n",
    "    return fig, axis\r\n"
   ],
   "outputs": [],
   "metadata": {}
  },
  {
   "cell_type": "markdown",
   "source": [
    "## System Constants"
   ],
   "metadata": {}
  },
  {
   "cell_type": "code",
   "execution_count": null,
   "source": [
    "# All spatial units are mm\r\n",
    "lens_diameter = 30\r\n",
    "lens_thickness = 8\r\n",
    "system_focus = 50 # The focus of the system\r\n",
    "f_num = 2.4"
   ],
   "outputs": [],
   "metadata": {}
  },
  {
   "cell_type": "markdown",
   "source": [
    "## A Single Lens Imager"
   ],
   "metadata": {}
  },
  {
   "cell_type": "code",
   "execution_count": null,
   "source": [
    "# Creating a simple Lens \r\n",
    "lens_material = matl.glass[\"ideal\"]\r\n",
    "lens_radius = 2*(lens_material.index_at(0.633)-1)*system_focus # We're discarding the lens thickness in the radius calculation\r\n",
    "lens = pyrayt.components.thick_lens(\r\n",
    "    r1=lens_radius, \r\n",
    "    r2=-lens_radius,\r\n",
    "    thickness=lens_thickness,\r\n",
    "    aperture=lens_diameter,\r\n",
    "    material=lens_material)\r\n",
    "\r\n",
    "draw(lens)"
   ],
   "outputs": [],
   "metadata": {}
  },
  {
   "cell_type": "code",
   "execution_count": null,
   "source": [
    "# Creating the Imager\r\n",
    "imager = components.baffle((lens_diameter, lens_diameter)).move_x(system_focus)"
   ],
   "outputs": [],
   "metadata": {}
  },
  {
   "cell_type": "code",
   "execution_count": null,
   "source": [
    "# Creating the Aperture\r\n",
    "aperture_position = system_focus / 2 # place it half way between the lens and the imager\r\n",
    "aperture_diameter = aperture_position / f_num\r\n",
    "aperture = components.aperture(\r\n",
    "    size=(lens_diameter, lens_diameter), \r\n",
    "    aperture_size=aperture_diameter\r\n",
    "    ).move_x(aperture_position)"
   ],
   "outputs": [],
   "metadata": {}
  },
  {
   "cell_type": "code",
   "execution_count": null,
   "source": [],
   "outputs": [],
   "metadata": {}
  },
  {
   "cell_type": "code",
   "execution_count": null,
   "source": [
    "# Create a Parallel ray set\r\n",
    "source = components.LineOfRays(0.8*lens_diameter, wavelength = 0.633).move_x(-10)\r\n",
    "\r\n",
    "tracer = pyrayt.RayTracer(source, [lens, aperture, imager])\r\n",
    "tracer.set_rays_per_source(11)\r\n",
    "results = tracer.trace()\r\n",
    "fig, axis = init_figure()\r\n",
    "\r\n",
    "tracer.show(\r\n",
    "    #color_function=\"source\",\r\n",
    "    ray_width=0.2,\r\n",
    "    axis=axis,\r\n",
    "    view='xy')\r\n",
    "plt.show()"
   ],
   "outputs": [],
   "metadata": {}
  },
  {
   "cell_type": "markdown",
   "source": [
    "### Spherical Aberrations"
   ],
   "metadata": {}
  },
  {
   "cell_type": "code",
   "execution_count": null,
   "source": [
    "n_sources = 5\r\n",
    "source_diameter = np.linspace(0.1, 0.5, n_sources)*lens_diameter\r\n",
    "spherical_sources = [components.CircleOfRays(x).move_x(-10) for x in source_diameter]\r\n",
    "tracer = pyrayt.RayTracer(spherical_sources, [lens, aperture, imager])\r\n",
    "tracer.set_rays_per_source(111)\r\n",
    "results = tracer.trace()\r\n",
    "tracer.calculate_source_ids() # calculates which source generated each ray and adds it to the dataframe\r\n",
    "\r\n",
    "\r\n",
    "\r\n",
    "imager_rays = results.loc[results['surface'] == imager.get_id()]\r\n",
    "\r\n",
    "fig, axis = init_figure()\r\n",
    "axis.set_aspect('equal')\r\n",
    "axis.set_xlabel(\"y-axis (mm)\")\r\n",
    "axis.set_ylabel(\"z-axis (mm)\")\r\n",
    "axis.set_title(\"spot size at focus for various beam diameters\")\r\n",
    "for n, radii in enumerate(source_diameter):\r\n",
    "    source_rays_on_imager = imager_rays.loc[imager_rays['source_id']==n]\r\n",
    "    axis.plot(source_rays_on_imager['y1'], source_rays_on_imager['z1'],'-o',label=f\"{radii:.02f}mm\")\r\n",
    "plt.legend()\r\n",
    "plt.show()\r\n",
    "\r\n"
   ],
   "outputs": [],
   "metadata": {}
  },
  {
   "cell_type": "code",
   "execution_count": null,
   "source": [
    "def spherical_aberration(system, ray_origin: float, max_radius:float, sample_points=11):\r\n",
    "\r\n",
    "    # the souce is a line of rays only on the +y axis. It's slightly shifted so zero is not a point\r\n",
    "    # as it would focus at infinity\r\n",
    "    source = pyrayt.components.LineOfRays(0.9*max_radius).move_x(ray_origin).move_y(max_radius/2)\r\n",
    "\r\n",
    "\r\n",
    "    tracer = pyrayt.RayTracer(source, system)\r\n",
    "    tracer.set_rays_per_source(sample_points)\r\n",
    "    results = tracer.trace()\r\n",
    "\r\n",
    "    # Since we don't have the actual imager as a variable in the function\r\n",
    "    # assume it is the last thing a ray intersect with, meaning the rays that hit it have the \r\n",
    "    # highest generation\r\n",
    "    imager_rays = results.loc[results['generation'] == np.max(results['generation'])]\r\n",
    "    \r\n",
    "    # Intercept is calculated using the tilt for each ray, with is a normalized vector representing\r\n",
    "    # the direction the ray is travelling\r\n",
    "    intercept = -imager_rays['x_tilt']*imager_rays['y0']/imager_rays['y_tilt'] + imager_rays['x0']\r\n",
    "\r\n",
    "    # the original radii \r\n",
    "    radii = results.loc[np.logical_and(results['generation']==0, results['id'].isin(imager_rays['id']))]['y0']\r\n",
    "\r\n",
    "    # create a new dataframe with the aberration metrics\r\n",
    "    results = pd.DataFrame({'radius': np.asarray(radii), 'focus': np.asarray(intercept)})\r\n",
    "    return results\r\n",
    "\r\n"
   ],
   "outputs": [],
   "metadata": {}
  },
  {
   "cell_type": "code",
   "execution_count": null,
   "source": [
    "aberrations = spherical_aberration([lens, aperture, imager], -10, 0.4*lens_diameter, 21)\r\n",
    "\r\n",
    "fig, axis = init_figure()\r\n",
    "axis.set_title(\"Focal Length vs. Beam Radius for a single-lens imager\")\r\n",
    "axis.plot(aberrations['radius'], aberrations['focus'])\r\n",
    "axis.set_xlabel(\"Beam Radius (mm)\")\r\n",
    "axis.set_ylabel(\"Focal Length (mm)\")\r\n",
    "plt.show()"
   ],
   "outputs": [],
   "metadata": {}
  },
  {
   "cell_type": "code",
   "execution_count": null,
   "source": [
    "endpoints = results.loc[results['surface']==imager.get_id()]\r\n",
    "fig, axes = plt.subplots(1,3, sharex=True, figsize=(12,8))\r\n",
    "for n in range(3):\r\n",
    "    #q,r = divmod(n,2)\r\n",
    "    ax = axes[n]\r\n",
    "    ax.set_aspect('equal')\r\n",
    "    source_rays=endpoints.loc[endpoints['source_id']==n]\r\n",
    "    ax.plot(source_rays['z1'], source_rays['y1'],'o')\r\n",
    "plt.show()"
   ],
   "outputs": [],
   "metadata": {}
  },
  {
   "cell_type": "markdown",
   "source": [
    "## Making a Doublet"
   ],
   "metadata": {}
  },
  {
   "cell_type": "code",
   "execution_count": null,
   "source": [
    "# Want the power of the whole system to remain unchanged, but cancel out for the first Order Chromatic Dispersion\r\n",
    "p_sys = 1/system_focus # the lens power of the system\r\n",
    "convex_matl = matl.glass[\"BK7\"]\r\n",
    "concave_matl = matl.glass[\"SF5\"]\r\n",
    "lens_radius = (2*(convex_matl.index_at(0.633)-1)-(concave_matl.index_at(0.633)-1)) / p_sys\r\n",
    "#lens_radius = np.sqrt(2)*(lens_material.index_at(0.633)-1)*system_focus\r\n",
    "\r\n",
    "lens1 = pyrayt.components.thick_lens(62.8, -45.7, 4, aperture = lens_diameter, material = convex_matl)\r\n",
    "lens2 = pyrayt.components.thick_lens(-45.7, -128.2, 2.5, aperture = lens_diameter, material = concave_matl).move_x(3.26)\r\n",
    "doublet = ObjectGroup([lens1, lens2])\r\n",
    "\r\n",
    "tracer = pyrayt.RayTracer(test_sources, [lens1, lens2, imager])\r\n",
    "tracer.set_rays_per_source(11)\r\n",
    "results = tracer.trace()\r\n",
    "fig, axis = init_figure()\r\n",
    "tracer.show(\r\n",
    "    color_function=\"source\",\r\n",
    "    ray_width=0.3,\r\n",
    "    axis=axis)\r\n",
    "plt.show()"
   ],
   "outputs": [],
   "metadata": {}
  },
  {
   "cell_type": "code",
   "execution_count": null,
   "source": [
    "def test_source(wave):\r\n",
    "    return pyrayt.components.LineOfRays(0, wavelength=wave).move_x(-10).move_y(lens_diameter/4)\r\n",
    "\r\n",
    "def chromatic_abberation(system, source_function, wavelengths: np.ndarray):\r\n",
    "    sources = [source_function(wave) for wave in wavelengths]\r\n",
    "    tracer = pyrayt.RayTracer(sources, system)\r\n",
    "    tracer.set_rays_per_source(1)\r\n",
    "    results = tracer.trace()\r\n",
    "    imager_rays = results.loc[results['generation'] == np.max(results['generation'])]\r\n",
    "    intercept = -imager_rays['x_tilt']*imager_rays['y0']/imager_rays['y_tilt'] + imager_rays['x0']\r\n",
    "    results = pd.DataFrame({'wavelength': imager_rays['wavelength'], 'focus': intercept})\r\n",
    "    return results\r\n",
    "\r\n",
    "def spherical_abberation(source, system, sample_points=11):\r\n",
    "    tracer = pyrayt.RayTracer(source, system)\r\n",
    "    tracer.set_rays_per_source(sample_points)\r\n",
    "    results = tracer.trace()\r\n",
    "    imager_rays = results.loc[results['generation'] == np.max(results['generation'])]\r\n",
    "    intercept = -imager_rays['x_tilt']*imager_rays['y0']/imager_rays['y_tilt'] + imager_rays['x0']\r\n",
    "    radii = results.loc[results['generation']==0]['y0']\r\n",
    "    results = pd.DataFrame({'radius': np.asarray(radii), 'focus': np.asarray(intercept)})\r\n",
    "    return results\r\n",
    "\r\n",
    "\r\n",
    "        "
   ],
   "outputs": [],
   "metadata": {}
  },
  {
   "cell_type": "code",
   "execution_count": null,
   "source": [
    "abberation = chromatic_abberation([lens, imager], test_source, np.linspace(0.44, 0.75, 11))\r\n",
    "abberation_doublet = chromatic_abberation([*doublet, imager], test_source, np.linspace(0.44, 0.75, 21))\r\n",
    "\r\n",
    "fig, axis = init_figure()\r\n",
    "axis.plot(1000*abberation['wavelength'], abberation['focus']-50)\r\n",
    "axis.plot(1000*abberation_doublet['wavelength'], abberation_doublet['focus']-np.mean(abberation_doublet['focus']))\r\n",
    "axis.set_xlabel(\"Wavelength (nm)\")\r\n",
    "axis.set_ylabel(\"Focal Length Shift (mm)\")\r\n",
    "plt.show()"
   ],
   "outputs": [],
   "metadata": {}
  },
  {
   "cell_type": "code",
   "execution_count": null,
   "source": [
    "abberation = spherical_abberation(pyrayt.components.LineOfRays(aperture_diameter*0.4).move(-10,0.22*aperture_diameter), [lens, imager])\r\n",
    "abberation_doublet = spherical_abberation(pyrayt.components.LineOfRays(aperture_diameter*0.4).move(-10,0.22*aperture_diameter), [*doublet, imager])\r\n",
    "\r\n",
    "fig, axis = init_figure()\r\n",
    "axis.plot(abberation['radius'], abberation['focus']-system_focus)\r\n",
    "axis.plot(abberation_doublet['radius'], abberation_doublet['focus']-np.mean(abberation_doublet['focus']))\r\n",
    "axis.set_xlabel(\"Wavelength (nm)\")\r\n",
    "axis.set_ylabel(\"Focal Length Shift (mm)\")\r\n",
    "plt.show()"
   ],
   "outputs": [],
   "metadata": {}
  },
  {
   "cell_type": "code",
   "execution_count": null,
   "source": [
    "results.loc[results['generation'] == np.max(results['generation'])]"
   ],
   "outputs": [],
   "metadata": {}
  },
  {
   "cell_type": "code",
   "execution_count": null,
   "source": [
    "tracer = pyrayt.RayTracer(source, [optimized_lens, aperture, imager])\r\n",
    "tracer.set_rays_per_source(11)\r\n",
    "results = tracer.trace()\r\n",
    "fig, axis = init_figure()\r\n",
    "tracer.show(\r\n",
    "    ray_width=0.1,\r\n",
    "    axis=axis)\r\n",
    "plt.show()\r\n",
    "\r\n",
    "fig, axis = init_figure()\r\n",
    "tracer.show(\r\n",
    "    ray_width=0.025,\r\n",
    "    axis=axis)\r\n",
    "axis.grid()\r\n",
    "axis.set_xlim(system_focus - 1, system_focus + 1)\r\n",
    "axis.set_ylim(-1, 1)\r\n",
    "plt.show()"
   ],
   "outputs": [],
   "metadata": {}
  },
  {
   "cell_type": "markdown",
   "source": [
    "### Chromatic Abberation"
   ],
   "metadata": {}
  },
  {
   "cell_type": "code",
   "execution_count": null,
   "source": [
    "sources = [components.LineOfRays(0.3*lens_diameter, wavelength = x).move_x(-system_focus).rotate_z(0) for x in [0.44, 0.53, 0.65]]\r\n",
    "tracer = pyrayt.RayTracer(sources, [optimized_lens, aperture, imager.move_x(3)])\r\n",
    "tracer.set_rays_per_source(2)\r\n",
    "results = tracer.trace()\r\n",
    "fig, axis = init_figure()\r\n",
    "tracer.show(\r\n",
    "    color_function=\"wavelength\",\r\n",
    "    ray_width=0.1,\r\n",
    "    axis=axis)\r\n",
    "plt.show()\r\n",
    "\r\n",
    "fig, axis = init_figure()\r\n",
    "tracer.show(\r\n",
    "    color_function=\"wavelength\",\r\n",
    "    ray_width=0.025,\r\n",
    "    axis=axis)\r\n",
    "axis.grid()\r\n",
    "axis.set_xlim(system_focus - .5, system_focus + 1)\r\n",
    "axis.set_ylim(-.5, 0.5)\r\n",
    "plt.show()"
   ],
   "outputs": [],
   "metadata": {}
  },
  {
   "cell_type": "code",
   "execution_count": null,
   "source": [],
   "outputs": [],
   "metadata": {}
  }
 ],
 "metadata": {
  "orig_nbformat": 4,
  "language_info": {
   "name": "python",
   "version": "3.8.10",
   "mimetype": "text/x-python",
   "codemirror_mode": {
    "name": "ipython",
    "version": 3
   },
   "pygments_lexer": "ipython3",
   "nbconvert_exporter": "python",
   "file_extension": ".py"
  },
  "kernelspec": {
   "name": "python3",
   "display_name": "Python 3.8.10 64-bit ('.venv': poetry)"
  },
  "interpreter": {
   "hash": "70dfabefa7f0aff4182a552484fa514ba9176249c43f1a51b0f735d1f34674d7"
  }
 },
 "nbformat": 4,
 "nbformat_minor": 2
}