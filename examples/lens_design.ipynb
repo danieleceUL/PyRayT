{
 "cells": [
  {
   "cell_type": "markdown",
   "metadata": {},
   "source": [
    "# Imager Optimization"
   ]
  },
  {
   "cell_type": "markdown",
   "metadata": {},
   "source": [
    "## Function Imports and Definitions"
   ]
  },
  {
   "cell_type": "code",
   "execution_count": null,
   "metadata": {},
   "outputs": [],
   "source": [
    "import pyrayt\r\n",
    "from pyrayt import components\r\n",
    "import pyrayt.materials as matl\r\n",
    "from pyrayt.utils import lensmakers_equation\r\n",
    "import numpy as np\r\n",
    "import matplotlib\r\n",
    "import matplotlib.pyplot as plt\r\n",
    "import scipy\r\n",
    "from typing import Tuple\r\n",
    "from tinygfx.g3d import ObjectGroup\r\n",
    "import pandas as pd\r\n",
    "from tinygfx.g3d.renderers \n",
    "from tinygfx.g3d import ObjectGroup\n",
    "mport draw\r\n",
    "\r\n",
    "def init_figure() -> Tuple[plt.Figure, plt.Axes]:\r\n",
    "    \"\"\"\r\n",
    "    Convenience function to generate an axis with a set size and \r\n",
    "    \"\"\"\r\n",
    "    fig = plt.figure(figsize = (12,8))\r\n",
    "    axis = plt.gca()\r\n",
    "    axis.grid()\r\n",
    "    return fig, axis\r\n"
   ]
  },
  {
   "cell_type": "markdown",
   "metadata": {},
   "source": [
    "## System Constants"
   ]
  },
  {
   "cell_type": "code",
   "execution_count": null,
   "metadata": {},
   "outputs": [],
   "source": [
    "# All spatial units are mm\r\n",
    "lens_diameter = 30\r\n",
    "lens_thickness = 8\r\n",
    "system_focus = 50 # The focus of the system\r\n",
    "f_num = 2.4"
   ]
  },
  {
   "cell_type": "markdown",
   "metadata": {},
   "source": [
    "## A Single Lens Imager"
   ]
  },
  {
   "cell_type": "code",
   "execution_count": null,
   "metadata": {},
   "outputs": [],
   "source": [
    "# Creating a simple Lens \r\n",
    "lens_material = matl.glass\"[BKl\"]\r\n",
    "lens_radius = 2*(lens_material.index_at(0.633)-1)*system_focus # We're discarding the lens thickness in the radius calculation\r\n",
    "lens = pyrayt.components.thick_lens(\r\n",
    "    r1=lens_radius, \r\n",
    "    r2=-lens_radius,\r\n",
    "    thickness=lens_thickness,\r\n",
    "    aperture=lens_diameter,\r\n",
    "    material=lens_material)\r\n",
    "\r\n",
    "draw(lens)"
   ]
  },
  {
   "cell_type": "code",
   "execution_count": null,
   "metadata": {},
   "outputs": [],
   "source": [
    "# Creating the Imager\r\n",
    "imager = components.baffle((lens_diameter, lens_diameter)).move_x(system_focus)"
   ]
  },
  {
   "cell_type": "code",
   "execution_count": null,
   "metadata": {},
   "outputs": [],
   "source": [
    "# Creating the Aperture\r\n",
    "aperture_position = system_focus / 2 # place it half way between the lens and the imager\r\n",
    "aperture_diameter = aperture_position / f_num\r\n",
    "aperture = components.aperture(\r\n",
    "    size=(lens_diameter, lens_diameter), \r\n",
    "    aperture_size=aperture_diameter\r\n",
    "    ).move_x(aperture_position)"
   ]
  },
  {
   "cell_type": "code",
   "execution_count": null,
   "metadata": {},
   "outputs": [],
   "source": [
    "# Create a Parallel ray set\r\n",
    "source = components.LineOfRays(0.8*lens_diameter, wavelength = 0.633).move_x(-10)\r\n",
    "\r\n",
    "tracer = pyrayt.RayTracer(source, [lens, aperture, imager])\r\n",
    "tracer.set_rays_per_source(11)\r\n",
    "results = tracer.trace()\r\n",
    "fig, axis = init_figure()\r\n",
    "\r\n",
    "tracer.show(\r\n",
    "    #color_function=\"source\",\r\n",
    "    ray_width=0.2,\r\n",
    "    axis=axis,\r\n",
    "    view='xy')\r\n",
    "plt.show()"
   ]
  },
  {
   "cell_type": "markdown",
   "metadata": {},
   "source": [
    "### Spherical Aberrations"
   ]
  },
  {
   "cell_type": "code",
   "execution_count": null,
   "metadata": {},
   "outputs": [],
   "source": [
    "n_sources = 5\r\n",
    "source_diameter = np.linspace(0.1, 0.5, n_sources)*lens_diameter\r\n",
    "spherical_sources = [components.CircleOfRays(x).move_x(-10) for x in source_diameter]\r\n",
    "tracer = pyrayt.RayTracer(spherical_sources, [lens, aperture, imager])\r\n",
    "tracer.set_rays_per_source(111)\r\n",
    "results = tracer.trace()\r\n",
    "tracer.calculate_source_ids() # calculates which source generated each ray and adds it to the dataframe\r\n",
    "\r\n",
    "\r\n",
    "\r\n",
    "imager_rays = results.loc[results['surface'] == imager.get_id()]\r\n",
    "\r\n",
    "fig, axis = init_figure()\r\n",
    "axis.set_aspect('equal')\r\n",
    "axis.set_xlabel(\"y-axis (mm)\")\r\n",
    "axis.set_ylabel(\"z-axis (mm)\")\r\n",
    "axis.set_title(\"spot size at focus for various beam diameters\")\r\n",
    "for n, radii in enumerate(source_diameter):\r\n",
    "    source_rays_on_imager = imager_rays.loc[imager_rays['source_id']==n]\r\n",
    "    axis.plot(source_rays_on_imager['y1'], source_rays_on_imager['z1'],'-o',label=f\"{radii:.02f}mm\")\r\n",
    "plt.legend()\r\n",
    "plt.show()\r\n",
    "\r\n"
   ]
  },
  {
   "cell_type": "code",
   "execution_count": null,
   "metadata": {},
   "outputs": [],
   "source": [
    "def spherical_aberration(system, ray_origin: float, max_radius:float, sample_points=11):\r\n",
    "\r\n",
    "    # the souce is a line of rays only on the +y axis. It's slightly shifted so zero is not a point\r\n",
    "    # as it would focus at infinity\r\n",
    "    source = pyrayt.components.LineOfRays(0.9*max_radius).move_x(ray_origin).move_y(max_radius/2)\r\n",
    "\r\n",
    "\r\n",
    "    tracer = pyrayt.RayTracer(source, system)\r\n",
    "    tracer.set_rays_per_source(sample_points)\r\n",
    "    results = tracer.trace()\r\n",
    "\r\n",
    "    # Since we don't have the actual imager as a variable in the function\r\n",
    "    # assume it is the last thing a ray intersect with, meaning the rays that hit it have the \r\n",
    "    # highest generation\r\n",
    "    imager_rays = results.loc[results['generation'] == np.max(results['generation'])]\r\n",
    "    \r\n",
    "    # Intercept is calculated using the tilt for each ray, with is a normalized vector representing\r\n",
    "    # the direction the ray is travelling\r\n",
    "    intercept = -imager_rays['x_tilt']*imager_rays['y0']/imager_rays['y_tilt'] + imager_rays['x0']\r\n",
    "\r\n",
    "    # the original radii \r\n",
    "    radii = results.loc[np.logical_and(results['generation']==0, results['id'].isin(imager_rays['id']))]['y0']\r\n",
    "\r\n",
    "    # create a new dataframe with the aberration metrics\r\n",
    "    results = pd.DataFrame({'radius': np.asarray(radii), 'focus': np.asarray(intercept)})\r\n",
    "    return results\r\n",
    "\r\n"
   ]
  },
  {
   "cell_type": "code",
   "execution_count": null,
   "metadata": {},
   "outputs": [],
   "source": [
    "aberrations = spherical_aberration([lens, aperture, imager], -10, 0.4*lens_diameter, 21)\r\n",
    "\r\n",
    "fig, axis = init_figure()\r\n",
    "axis.set_title(\"Focal Length vs. Beam Radius for a single-lens imager\")\r\n",
    "axis.plot(aberrations['radius'], aberrations['focus'])\r\n",
    "axis.set_xlabel(\"Beam Radius (mm)\")\r\n",
    "axis.set_ylabel(\"Focal Length (mm)\")\r\n",
    "plt.show()"
   ]
  },
  {
   "cell_type": "markdown",
   "metadata": {},
   "source": [
    "### Chromatic Aberrations"
   ]
  },
  {
   "cell_type": "code",
   "execution_count": null,
   "metadata": {},
   "outputs": [],
   "source": [
    "def chromatic_abberation(system, ray_origin: float, test_radius:float, wavelengths: np.ndarray) -> pd.DataFrame:\n",
    "    # create a set of sources for every wavelength of light\n",
    "    sources = [\n",
    "        pyrayt.components.LineOfRays(0, wavelength = wave)\n",
    "        .move_y(test_radius)\n",
    "        .move_x(ray_origin) \n",
    "        for wave in wavelengths]\n",
    "    \n",
    "    # Create the ray tracer and propagate\n",
    "    tracer = pyrayt.RayTracer(sources, system)\n",
    "    tracer.set_rays_per_source(1)\n",
    "    results = tracer.trace()\n",
    "\n",
    "    #filter the rays that intersect the imager\n",
    "    imager_rays = results.loc[results['generation'] == np.max(results['generation'])]\n",
    "    \n",
    "    # calculate intercept of the imager rays with the x-axis and form into a dataframe\n",
    "    intercept = -imager_rays['x_tilt']*imager_rays['y0']/imager_rays['y_tilt'] + imager_rays['x0']\n",
    "    results = pd.DataFrame({'wavelength': imager_rays['wavelength'], 'focus': intercept})\n",
    "\n",
    "\n",
    "    return results\r\n",
    "\r\n"
   ]
  },
  {
   "cell_type": "code",
   "execution_count": null,
   "metadata": {},
   "outputs": [],
   "source": [
    "aberrations = chromatic_abberation([lens, aperture, imager], -10, lens_diameter/4, np.linspace(0.45, 0.75, 11))\n",
    "\n",
    "fig, axis = init_figure()\n",
    "axis.set_title(\"Focal Length vs. wavelength for a single-lens imager\")\n",
    "axis.plot(1000*aberrations['wavelength'], aberrations['focus'])\n",
    "axis.set_xlabel(\"Beam Radius (mm)\")\n",
    "axis.set_ylabel(\"wavelength (nm)\")\n",
    "plt.show()"
   ]
  },
  {
   "source": [
    "### Coma Aberration"
   ],
   "cell_type": "markdown",
   "metadata": {}
  },
  {
   "source": [
    "# Visualizing with three sources\n",
    "angle_sources= [pyrayt.components.CircleOfRays(0.5 * lens_diameter).move_x(-10).rotate_z(x) for x in (0, 10, 15)]\n",
    "\n",
    "tracer = pyrayt.RayTracer(angle_sources, [lens, imager])\n",
    "tracer.set_rays_per_source(100)\n",
    "tracer.trace()\n",
    "fig, axis = init_figure()\n",
    "tracer.show(\n",
    "    axis=axis,\n",
    "    color_function=\"source\",\n",
    "    ray_width=0.15\n",
    ")"
   ],
   "cell_type": "code",
   "metadata": {},
   "execution_count": null,
   "outputs": []
  },
  {
   "cell_type": "code",
   "execution_count": null,
   "metadata": {},
   "outputs": [],
   "source": [
    "# View the Coma distortion at each angle\n",
    "tracer.calculate_source_ids()\n",
    "results = tracer.get_results()\n",
    "\n",
    "fig = plt.figure(figsize=(12,12))\n",
    "for source in set(results['source_id']):\n",
    "    ray_set = results.loc[np.logical_and(results['source_id']==source, results['surface']==imager.get_id())]\n",
    "    axis = plt.subplot(2,2,source+1)\n",
    "    axis.set_aspect('equal')\n",
    "    axis.plot(ray_set['z1'], ray_set['y1'],'o')\n",
    "    "
   ]
  },
  {
   "cell_type": "code",
   "execution_count": null,
   "metadata": {},
   "outputs": [],
   "source": [
    "def coma(system, ray_origin: float, max_radius:float, angle: float) -> float:\n",
    "    source = pyrayt.components.LineOfRays(2*max_radius).move_x(-10).rotate_z(angle)\n",
    "\n",
    "    tracer = pyrayt.RayTracer(source, system)\n",
    "    tracer.set_rays_per_source(11)\n",
    "    results = tracer.trace()\n",
    "    tracer.calculate_source_ids()\n",
    "\n",
    "    ray_set = results.loc[results['surface'] == imager.get_id()]\n",
    "    expected_y = system_focus*np.tan(angle*np.pi/180)\n",
    "    return np.mean(ray_set['y1'] - expected_y)"
   ]
  },
  {
   "cell_type": "code",
   "execution_count": null,
   "metadata": {},
   "outputs": [],
   "source": [
    "coma([lens, imager], -10, 0.4*lens_diameter, 0)"
   ]
  },
  {
   "cell_type": "markdown",
   "metadata": {},
   "source": [
    "## Making a Doublet"
   ]
  },
  {
   "cell_type": "code",
   "execution_count": null,
   "metadata": {},
   "outputs": [],
   "source": [
    "# Want the power of the whole system to remain unchanged, but cancel out for the first Order Chromatic Dispersion\r\n",
    "# Define the two materials we will use\n",
    "bk7tl = matl.glass[\"BK7 # abbe of ~60 - high disperion\"sf5atl = matl.glass[\"SF # abbe of ~30 - low dispersion\n",
    "\n",
    "# will make the first lens out of bk7 and the second out of sf5\n",
    "# get abbe numbers for each material\n",
    "v1 = bk7.abbe()\n",
    "v2 = sf5.abbe()\n",
    "\n",
    "# calculate the individual lens powers based on the dispersion\n",
    "p1 = p_sys * v1/(v1 - v2)\n",
    "p2 = p_sys * v2/(v2 - v1)\n",
    "\n",
    "# calculate the lens radius from the lensmakers equation \n",
    "r1 = 2*(bk7.index_at(0.633)-1) / p1\n",
    "r2 = 2*(sf5.index_at(0.633)-1) / p2s=axis)\r\n",
    "plt.show()"
   ]
  },
  {
   "cell_type": "code",
   "execution_count": null,
   "metadata": {},
   "outputs": [],
   "source": [
    "# create lenses as a doublet\n",
    "lens_thickness=8\n",
    "l1 = pyrayt.components.thick_lens(r1, -r1, lens_thickness, aperture = lens_diameter, material=bk7)\n",
    "l2 = pyrayt.components.thick_lens(r2, -r2, 2, aperture = lens_diameter, material=sf5).move_x(1.001*lens_thickness/2+1)\n",
    "doublet = ObjectGroup([l1, l2])"
   ]
  },
  {
   "cell_type": "code",
   "execution_count": null,
   "metadata": {},
   "outputs": [],
   "source": [
    "source = pyrayt.components.LineOfRays(0.5*lens_diameter).move_x(-10).rotate_z(12)\n",
    "\n",
    "tracer = pyrayt.RayTracer(source, [*doublet, aperture, imager])\n",
    "tracer.trace()\n",
    "tracer.show(\n",
    "    ray_width=0.4\n",
    "\n",
    ")"
   ]
  },
  {
   "cell_type": "code",
   "execution_count": null,
   "metadata": {},
   "outputs": [],
   "source": [
    "aberrations = [chromatic_abberation([lens, aperture, imager], -10, lens_diameter/4, np.linspace(0.45, 0.75, 11)),\n",
    "chromatic_abberation([*doublet, aperture, imager], -10, lens_diameter/4, np.linspace(0.45, 0.75, 11))]\n",
    "\n",
    "\n",
    "fig, axis = init_figure()\n",
    "axis.set_title(\"Focal Length vs. wavelength for a single-lens imager\")\n",
    "for aberration in aberrations:\n",
    "    axis.plot(1000*aberration['wavelength'], aberration['focus']-np.mean(aberration['focus']))\n",
    "axis.set_xlabel(\"Beam Radius (mm)\")\n",
    "axis.set_ylabel(\"wavelength (nm)\")\n",
    "plt.show()"
   ]
  },
  {
   "cell_type": "code",
   "execution_count": null,
   "metadata": {},
   "outputs": [],
   "source": [
    "def test_source(wave):\r\n",
    "    return pyrayt.components.LineOfRays(0, wavelength=wave).move_x(-10).move_y(lens_diameter/4)\r",
    "urn results\r\n",
    "\r\n",
    "def spherical_abberation(source, system, sample_points=11):\r\n",
    "    tracer = pyrayt.RayTracer(source, system)\r\n",
    "    tracer.set_rays_per_source(sample_points)\r\n",
    "    results = tracer.trace()\r\n",
    "    imager_rays = results.loc[results['generation'] == np.max(results['generation'])]\r\n",
    "    intercept = -imager_rays['x_tilt']*imager_rays['y0']/imager_rays['y_tilt'] + imager_rays['x0']\r\n",
    "    radii = results.loc[results['generation']==0]['y0']\r\n",
    "    results = pd.DataFrame({'radius': np.asarray(radii), 'focus': np.asarray(intercept)})\r\n",
    "    return results\r\n",
    "\r\n",
    "\r\n",
    "        "
   ]
  },
  {
   "cell_type": "code",
   "execution_count": null,
   "metadata": {},
   "outputs": [],
   "source": [
    "abberation = chromatic_abberation([lens, imager], test_source, np.linspace(0.44, 0.75, 11))\r\n",
    "abberation_doublet = chromatic_abberation([*doublet, imager], test_source, np.linspace(0.44, 0.75, 21))\r\n",
    "\r\n",
    "fig, axis = init_figure()\r\n",
    "axis.plot(1000*abberation['wavelength'], abberation['focus']-50)\r\n",
    "axis.plot(1000*abberation_doublet['wavelength'], abberation_doublet['focus']-np.mean(abberation_doublet['focus']))\r\n",
    "axis.set_xlabel(\"Wavelength (nm)\")\r\n",
    "axis.set_ylabel(\"Focal Length Shift (mm)\")\r\n",
    "plt.show()"
   ]
  },
  {
   "cell_type": "code",
   "execution_count": null,
   "metadata": {},
   "outputs": [],
   "source": [
    "abberation = spherical_abberation(pyrayt.components.LineOfRays(aperture_diameter*0.4).move(-10,0.22*aperture_diameter), [lens, imager])\r\n",
    "abberation_doublet = spherical_abberation(pyrayt.components.LineOfRays(aperture_diameter*0.4).move(-10,0.22*aperture_diameter), [*doublet, imager])\r\n",
    "\r\n",
    "fig, axis = init_figure()\r\n",
    "axis.plot(abberation['radius'], abberation['focus']-system_focus)\r\n",
    "axis.plot(abberation_doublet['radius'], abberation_doublet['focus']-np.mean(abberation_doublet['focus']))\r\n",
    "axis.set_xlabel(\"Wavelength (nm)\")\r\n",
    "axis.set_ylabel(\"Focal Length Shift (mm)\")\r\n",
    "plt.show()"
   ]
  },
  {
   "cell_type": "code",
   "execution_count": null,
   "metadata": {},
   "outputs": [],
   "source": [
    "results.loc[results['generation'] == np.max(results['generation'])]"
   ]
  },
  {
   "cell_type": "code",
   "execution_count": null,
   "metadata": {},
   "outputs": [],
   "source": [
    "tracer = pyrayt.RayTracer(source, [optimized_lens, aperture, imager])\r\n",
    "tracer.set_rays_per_source(11)\r\n",
    "results = tracer.trace()\r\n",
    "fig, axis = init_figure()\r\n",
    "tracer.show(\r\n",
    "    ray_width=0.1,\r\n",
    "    axis=axis)\r\n",
    "plt.show()\r\n",
    "\r\n",
    "fig, axis = init_figure()\r\n",
    "tracer.show(\r\n",
    "    ray_width=0.025,\r\n",
    "    axis=axis)\r\n",
    "axis.grid()\r\n",
    "axis.set_xlim(system_focus - 1, system_focus + 1)\r\n",
    "axis.set_ylim(-1, 1)\r\n",
    "plt.show()"
   ]
  },
  {
   "cell_type": "markdown",
   "metadata": {},
   "source": [
    "### Chromatic Abberation"
   ]
  },
  {
   "cell_type": "code",
   "execution_count": null,
   "metadata": {},
   "outputs": [],
   "source": [
    "sources = [components.LineOfRays(0.3*lens_diameter, wavelength = x).move_x(-system_focus).rotate_z(0) for x in [0.44, 0.53, 0.65]]\r\n",
    "tracer = pyrayt.RayTracer(sources, [optimized_lens, aperture, imager.move_x(3)])\r\n",
    "tracer.set_rays_per_source(2)\r\n",
    "results = tracer.trace()\r\n",
    "fig, axis = init_figure()\r\n",
    "tracer.show(\r\n",
    "    color_function=\"wavelength\",\r\n",
    "    ray_width=0.1,\r\n",
    "    axis=axis)\r\n",
    "plt.show()\r\n",
    "\r\n",
    "fig, axis = init_figure()\r\n",
    "tracer.show(\r\n",
    "    color_function=\"wavelength\",\r\n",
    "    ray_width=0.025,\r\n",
    "    axis=axis)\r\n",
    "axis.grid()\r\n",
    "axis.set_xlim(system_focus - .5, system_focus + 1)\r\n",
    "axis.set_ylim(-.5, 0.5)\r\n",
    "plt.show()"
   ]
  },
  {
   "cell_type": "code",
   "execution_count": null,
   "metadata": {},
   "outputs": [],
   "source": []
  }
 ],
 "metadata": {
  "interpreter": {
   "hash": "b4bf8fd16f484dbb203113213477f5e92415bebb11841c51326781f99813f92a"
  },
  "kernelspec": {
   "name": "python3",
   "display_name": "Python 3.8.10 64-bit ('.venv': poetry)"
  },
  "language_info": {
   "codemirror_mode": {
    "name": "ipython",
    "version": 3
   },
   "file_extension": ".py",
   "mimetype": "text/x-python",
   "name": "python",
   "nbconvert_exporter": "python",
   "pygments_lexer": "ipython3",
   "version": "3.8.10"
  }
 },
 "nbformat": 4,
 "nbformat_minor": 4
}