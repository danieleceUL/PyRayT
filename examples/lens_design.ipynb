{
 "cells": [
  {
   "cell_type": "markdown",
   "source": [
    "# Imager Optimization"
   ],
   "metadata": {}
  },
  {
   "cell_type": "markdown",
   "source": [
    "## Function Imports and Definitions"
   ],
   "metadata": {}
  },
  {
   "cell_type": "code",
   "execution_count": null,
   "source": [
    "import pyrayt\r\n",
    "from pyrayt import components\r\n",
    "import pyrayt.materials as matl\r\n",
    "from pyrayt.utils import lensmakers_equation\r\n",
    "import numpy as np\r\n",
    "import matplotlib\r\n",
    "import matplotlib.pyplot as plt\r\n",
    "import scipy\r\n",
    "from typing import Tuple\r\n",
    "from tinygfx.g3d import ObjectGroup\r\n",
    "import pandas as pd\r\n",
    "\r\n",
    "\r\n",
    "from tinygfx.g3d.renderers import draw\r\n",
    "\r\n",
    "# Set the plot font and size for better readability\r\n",
    "font = {'family':'sans-serif',\r\n",
    "        'size'   : 18}\r\n",
    "matplotlib.rc('font', **font)\r\n",
    "\r\n",
    "def init_figure() -> Tuple[plt.Figure, plt.Axes]:\r\n",
    "    \"\"\"\r\n",
    "    Convenience function to generate an axis with a set size and \r\n",
    "    \"\"\"\r\n",
    "    fig = plt.figure(figsize = (12,8))\r\n",
    "    axis = plt.gca()\r\n",
    "    axis.grid()\r\n",
    "    return fig, axis\r\n"
   ],
   "outputs": [],
   "metadata": {}
  },
  {
   "cell_type": "markdown",
   "source": [
    "## System Constants"
   ],
   "metadata": {}
  },
  {
   "cell_type": "code",
   "execution_count": null,
   "source": [
    "# All spatial units are mm\r\n",
    "lens_diameter = 25.4\r\n",
    "system_focus = 50 # The focus of the system\r\n",
    "f_num = 2.4\r\n",
    "\r\n",
    "# This is bigger than a 35mm sensor, but \r\n",
    "sensor_size = (36,24)\r\n",
    "sensor_spot_diameter = np.linalg.norm(sensor_size)\r\n"
   ],
   "outputs": [],
   "metadata": {}
  },
  {
   "cell_type": "markdown",
   "source": [
    "## A Single Lens Imager"
   ],
   "metadata": {}
  },
  {
   "cell_type": "code",
   "execution_count": null,
   "source": [
    "# Creating a BK7 Lens \r\n",
    "lens_material = matl.glass[\"BK7\"]\r\n",
    "lens_thickness = 5\r\n",
    "lens_radius = 2*(lens_material.index_at(0.633)-1)*system_focus # We're discarding the lens thickness in the radius calculation\r\n",
    "\r\n",
    "# Creating the Aperture\r\n",
    "aperture_position = system_focus / 2 # place it half way between the lens and the imager\r\n",
    "aperture_diameter = aperture_position/f_num\r\n",
    "aperture = components.aperture((lens_diameter, lens_diameter), aperture_diameter).move_x(aperture_position)\r\n",
    "\r\n",
    "lens = components.biconvex_lens(lens_radius, lens_radius, lens_thickness, aperture=lens_diameter, material = lens_material)\r\n",
    "imager = components.baffle((sensor_spot_diameter, sensor_spot_diameter)).move_x(system_focus)\r\n",
    "\r\n",
    "source = components.LineOfRays(0.5*lens_diameter, wavelength = 0.633).move_x(-system_focus).rotate_z(10)\r\n",
    "\r\n",
    "tracer = pyrayt.RayTracer(source, [lens, imager])\r\n",
    "tracer.set_rays_per_source(11)\r\n",
    "results = tracer.trace()\r\n",
    "fig, axis = init_figure()\r\n",
    "tracer.show(\r\n",
    "    ray_width=0.1,\r\n",
    "    axis=axis)\r\n",
    "plt.show()"
   ],
   "outputs": [],
   "metadata": {}
  },
  {
   "cell_type": "markdown",
   "source": [
    "## Making a Doublet"
   ],
   "metadata": {}
  },
  {
   "cell_type": "code",
   "execution_count": null,
   "source": [
    "# Want the power of the whole system to remain unchanged, but cancel out for the first Order Chromatic Dispersion\r\n",
    "p_sys = 1/system_focus # the lens power of the system\r\n",
    "convex_matl = matl.glass[\"BK7\"]\r\n",
    "concave_matl = matl.glass[\"SF5\"]\r\n",
    "lens_radius = (2*(convex_matl.index_at(0.633)-1)-(concave_matl.index_at(0.633)-1)) / p_sys\r\n",
    "#lens_radius = np.sqrt(2)*(lens_material.index_at(0.633)-1)*system_focus\r\n",
    "\r\n",
    "lens1 = pyrayt.components.thick_lens(62.8, -45.7, 4, aperture = lens_diameter, material = convex_matl)\r\n",
    "lens2 = pyrayt.components.thick_lens(-45.7, -128.2, 2.5, aperture = lens_diameter, material = concave_matl).move_x(3.26)\r\n",
    "imager = components.baffle((sensor_spot_diameter, sensor_spot_diameter)).move_x(100)\r\n",
    "doublet = ObjectGroup([lens1, lens2])\r\n",
    "\r\n",
    "tracer = pyrayt.RayTracer(source, [lens1, lens2, imager])\r\n",
    "tracer.set_rays_per_source(11)\r\n",
    "results = tracer.trace()\r\n",
    "fig, axis = init_figure()\r\n",
    "tracer.show(\r\n",
    "    ray_width=0.3,\r\n",
    "    axis=axis)\r\n",
    "plt.show()"
   ],
   "outputs": [],
   "metadata": {}
  },
  {
   "cell_type": "code",
   "execution_count": null,
   "source": [
    "def test_source(wave):\r\n",
    "    return pyrayt.components.LineOfRays(0, wavelength=wave).move_x(-10).move_y(lens_diameter/4)\r\n",
    "\r\n",
    "def chromatic_abberation(system, source_function, wavelengths: np.ndarray):\r\n",
    "    sources = [source_function(wave) for wave in wavelengths]\r\n",
    "    tracer = pyrayt.RayTracer(sources, system)\r\n",
    "    tracer.set_rays_per_source(1)\r\n",
    "    results = tracer.trace()\r\n",
    "    imager_rays = results.loc[results['generation'] == np.max(results['generation'])]\r\n",
    "    intercept = -imager_rays['x_tilt']*imager_rays['y0']/imager_rays['y_tilt'] + imager_rays['x0']\r\n",
    "    results = pd.DataFrame({'wavelength': imager_rays['wavelength'], 'focus': intercept})\r\n",
    "    return results\r\n",
    "\r\n",
    "\r\n",
    "        # find the max generation limit and find where they intersect\r\n",
    "\r\n",
    "        "
   ],
   "outputs": [],
   "metadata": {}
  },
  {
   "cell_type": "code",
   "execution_count": null,
   "source": [
    "abberation = chromatic_abberation([lens, imager], test_source, np.linspace(0.44, 0.75, 11))\r\n",
    "abberation_doublet = chromatic_abberation([*doublet, imager], test_source, np.linspace(0.44, 0.75, 21))\r\n",
    "\r\n",
    "fig, axis = init_figure()\r\n",
    "axis.plot(1000*abberation['wavelength'], abberation['focus']-50)\r\n",
    "axis.plot(1000*abberation_doublet['wavelength'], abberation_doublet['focus']-np.mean(abberation_doublet['focus']))\r\n",
    "axis.set_xlabel(\"Wavelength (nm)\")\r\n",
    "axis.set_ylabel(\"Focal Length Shift (mm)\")\r\n",
    "plt.show()"
   ],
   "outputs": [],
   "metadata": {}
  },
  {
   "cell_type": "code",
   "execution_count": null,
   "source": [
    "results.loc[results['generation'] == np.max(results['generation'])]"
   ],
   "outputs": [],
   "metadata": {}
  },
  {
   "cell_type": "code",
   "execution_count": null,
   "source": [
    "tracer = pyrayt.RayTracer(source, [optimized_lens, aperture, imager])\r\n",
    "tracer.set_rays_per_source(11)\r\n",
    "results = tracer.trace()\r\n",
    "fig, axis = init_figure()\r\n",
    "tracer.show(\r\n",
    "    ray_width=0.1,\r\n",
    "    axis=axis)\r\n",
    "plt.show()\r\n",
    "\r\n",
    "fig, axis = init_figure()\r\n",
    "tracer.show(\r\n",
    "    ray_width=0.025,\r\n",
    "    axis=axis)\r\n",
    "axis.grid()\r\n",
    "axis.set_xlim(system_focus - 1, system_focus + 1)\r\n",
    "axis.set_ylim(-1, 1)\r\n",
    "plt.show()"
   ],
   "outputs": [],
   "metadata": {}
  },
  {
   "cell_type": "markdown",
   "source": [
    "### Chromatic Abberation"
   ],
   "metadata": {}
  },
  {
   "cell_type": "code",
   "execution_count": null,
   "source": [
    "sources = [components.LineOfRays(0.3*lens_diameter, wavelength = x).move_x(-system_focus).rotate_z(0) for x in [0.44, 0.53, 0.65]]\r\n",
    "tracer = pyrayt.RayTracer(sources, [optimized_lens, aperture, imager.move_x(3)])\r\n",
    "tracer.set_rays_per_source(2)\r\n",
    "results = tracer.trace()\r\n",
    "fig, axis = init_figure()\r\n",
    "tracer.show(\r\n",
    "    color_function=\"wavelength\",\r\n",
    "    ray_width=0.1,\r\n",
    "    axis=axis)\r\n",
    "plt.show()\r\n",
    "\r\n",
    "fig, axis = init_figure()\r\n",
    "tracer.show(\r\n",
    "    color_function=\"wavelength\",\r\n",
    "    ray_width=0.025,\r\n",
    "    axis=axis)\r\n",
    "axis.grid()\r\n",
    "axis.set_xlim(system_focus - .5, system_focus + 1)\r\n",
    "axis.set_ylim(-.5, 0.5)\r\n",
    "plt.show()"
   ],
   "outputs": [],
   "metadata": {}
  },
  {
   "cell_type": "code",
   "execution_count": null,
   "source": [],
   "outputs": [],
   "metadata": {}
  }
 ],
 "metadata": {
  "orig_nbformat": 4,
  "language_info": {
   "name": "python",
   "version": "3.8.10",
   "mimetype": "text/x-python",
   "codemirror_mode": {
    "name": "ipython",
    "version": 3
   },
   "pygments_lexer": "ipython3",
   "nbconvert_exporter": "python",
   "file_extension": ".py"
  },
  "kernelspec": {
   "name": "python3",
   "display_name": "Python 3.8.10 64-bit ('.venv': poetry)"
  },
  "interpreter": {
   "hash": "70dfabefa7f0aff4182a552484fa514ba9176249c43f1a51b0f735d1f34674d7"
  }
 },
 "nbformat": 4,
 "nbformat_minor": 2
}